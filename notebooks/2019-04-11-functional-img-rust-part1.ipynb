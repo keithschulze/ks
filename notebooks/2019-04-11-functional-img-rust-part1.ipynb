{
 "cells": [
  {
   "cell_type": "markdown",
   "metadata": {},
   "source": [
    "# Funtional Image Processing in Rust - Part 1\n",
    "This notebook provides an interactive version of the code feature in the [Functional Image Processing in Rust - Part 1 blog post](https://keithschulze.com/functional-img-rust/). This is a [Jupyter notebook](https://jupyter-notebook.readthedocs.io) and you can find out more about how to interact with the notebook [here](https://jupyter-notebook.readthedocs.io/en/stable/notebook.html#basic-workflow).\n",
    "\n",
    "If you execute (i.e., Shift + Enter) all the cells in order from top to bottom, it should produce the images featured in the blog post."
   ]
  },
  {
   "cell_type": "code",
   "execution_count": 4,
   "metadata": {
    "collapsed": false,
    "inputHidden": false,
    "jupyter": {
     "outputs_hidden": false
    },
    "outputHidden": false
   },
   "outputs": [],
   "source": [
    ":dep image = \"*\"\n",
    ":dep base64 = \"*\"\n",
    ":dep num = \"*\""
   ]
  },
  {
   "cell_type": "code",
   "execution_count": 6,
   "metadata": {
    "collapsed": false,
    "inputHidden": false,
    "jupyter": {
     "outputs_hidden": false
    },
    "outputHidden": false
   },
   "outputs": [],
   "source": [
    "use image::ImageBuffer;\n",
    "use image::Luma;\n",
    "use num::Integer;"
   ]
  },
  {
   "cell_type": "code",
   "execution_count": 21,
   "metadata": {},
   "outputs": [],
   "source": [
    "// Note: This cell just provides some functions that allow image types \n",
    "// from PistonDevelopers `image` to be rendered inline in a Jupyter notebook.\n",
    "// Essentially allows us to call `.show()` on an ImageBuffer to show it inline.\n",
    "\n",
    "use image::ImageEncoder;\n",
    "\n",
    "pub trait Showable {\n",
    "    fn show(&self);\n",
    "}\n",
    "\n",
    "impl Showable for image::RgbImage {\n",
    "    fn show(&self) {\n",
    "        let mut buffer = Vec::new();\n",
    "        image::codecs::png::PngEncoder::new(&mut buffer)\n",
    "            .write_image(&**self, self.width(), self.height(), image::ColorType::Rgb8)\n",
    "            .unwrap();\n",
    "        let img = base64::encode(&buffer);\n",
    "        println!(\"EVCXR_BEGIN_CONTENT image/png\\n{}\\nEVCXR_END_CONTENT\", img);\n",
    "    }\n",
    "}\n",
    "\n",
    "impl Showable for image::RgbaImage {\n",
    "    fn show(&self) {\n",
    "        let mut buffer = Vec::new();\n",
    "        image::codecs::png::PngEncoder::new(&mut buffer)\n",
    "            .write_image(\n",
    "                &**self,\n",
    "                self.width(),\n",
    "                self.height(),\n",
    "                image::ColorType::Rgba8,\n",
    "            )\n",
    "            .unwrap();\n",
    "        let img = base64::encode(&buffer);\n",
    "        println!(\"EVCXR_BEGIN_CONTENT image/png\\n{}\\nEVCXR_END_CONTENT\", img);\n",
    "    }\n",
    "}\n",
    "\n",
    "impl Showable for image::GrayImage {\n",
    "    fn show(&self) {\n",
    "        let mut buffer = Vec::new();\n",
    "        image::codecs::png::PngEncoder::new(&mut buffer)\n",
    "            .write_image(&**self, self.width(), self.height(), image::ColorType::L8)\n",
    "            .unwrap();\n",
    "        let img = base64::encode(&buffer);\n",
    "        println!(\"EVCXR_BEGIN_CONTENT image/png\\n{}\\nEVCXR_END_CONTENT\", img);\n",
    "    }\n",
    "}"
   ]
  },
  {
   "cell_type": "code",
   "execution_count": 8,
   "metadata": {},
   "outputs": [],
   "source": [
    "pub type Coord = (f32, f32);\n",
    "\n",
    "pub trait Img<A> : Fn(Coord) -> A {}\n",
    "impl <F, A> Img<A> for F where F: Fn(Coord) -> A {}"
   ]
  },
  {
   "cell_type": "code",
   "execution_count": 9,
   "metadata": {},
   "outputs": [],
   "source": [
    "pub trait Region : Img<bool> {}\n",
    "impl <F> Region for F where F: Fn(Coord) -> bool {}"
   ]
  },
  {
   "cell_type": "code",
   "execution_count": 10,
   "metadata": {},
   "outputs": [],
   "source": [
    "pub type Vector = (f32, f32);\n",
    "\n",
    "pub fn render<F: Region>(\n",
    "    im: F,\n",
    "    width: u32,\n",
    "    height: u32,\n",
    "    origin: Vector,\n",
    "    pixel_size: Vector,\n",
    ") -> ImageBuffer<Luma<u8>, Vec<u8>> {\n",
    "    let (pw, ph) = pixel_size;\n",
    "    let (ox, oy) = origin;\n",
    "    image::ImageBuffer::from_fn(width, height, |x, y| {\n",
    "        let pixel = im((x as f32 * pw - ox, y as f32 * ph - oy)) as u8;\n",
    "        image::Luma([pixel * 255])\n",
    "    })\n",
    "}\n"
   ]
  },
  {
   "cell_type": "code",
   "execution_count": 11,
   "metadata": {},
   "outputs": [],
   "source": [
    "pub fn vstrip() -> impl Region {\n",
    "    |(x, _y): Coord| x.abs() <= 0.5\n",
    "}"
   ]
  },
  {
   "cell_type": "code",
   "execution_count": 12,
   "metadata": {
    "collapsed": false,
    "inputHidden": false,
    "jupyter": {
     "outputs_hidden": false
    },
    "outputHidden": false
   },
   "outputs": [
    {
     "data": {
      "image/png": "[encoded data removed]",
      "text/plain": [
       "()"
      ]
     },
     "execution_count": 12,
     "metadata": {},
     "output_type": "execute_result"
    }
   ],
   "source": [
    "render(vstrip(), 512, 512, (2.5, 0.0), (0.009765625, 0.009765625)).show()"
   ]
  },
  {
   "cell_type": "code",
   "execution_count": 13,
   "metadata": {},
   "outputs": [],
   "source": [
    "pub fn checker() -> impl Region {\n",
    "    |(x, y): Coord| ((x.floor() + y.floor()) as u32).is_even()\n",
    "}"
   ]
  },
  {
   "cell_type": "code",
   "execution_count": 14,
   "metadata": {
    "collapsed": false,
    "inputHidden": false,
    "jupyter": {
     "outputs_hidden": false
    },
    "outputHidden": false
   },
   "outputs": [
    {
     "data": {
      "image/png": "[encoded data removed]",
      "text/plain": [
       "()"
      ]
     },
     "execution_count": 14,
     "metadata": {},
     "output_type": "execute_result"
    }
   ],
   "source": [
    "render(checker(), 1024, 512, (0.0, 0.0), (0.009765625, 0.009765625)).show()"
   ]
  },
  {
   "cell_type": "code",
   "execution_count": 15,
   "metadata": {},
   "outputs": [],
   "source": [
    "pub fn dist_o(c: Coord) -> f32 {\n",
    "    let (x, y) = c;\n",
    "    (x * x + y * y).sqrt()\n",
    "}\n",
    "\n",
    "pub fn alt_rings() -> impl Region {\n",
    "    |p| (dist_o(p).floor() as i32).is_even()\n",
    "}"
   ]
  },
  {
   "cell_type": "code",
   "execution_count": 16,
   "metadata": {
    "collapsed": false,
    "inputHidden": false,
    "jupyter": {
     "outputs_hidden": false
    },
    "outputHidden": false
   },
   "outputs": [
    {
     "data": {
      "image/png": "[encoded data removed]",
      "text/plain": [
       "()"
      ]
     },
     "execution_count": 16,
     "metadata": {},
     "output_type": "execute_result"
    }
   ],
   "source": [
    "render(alt_rings(), 512, 512, (10.0, 10.0), (0.0390625, 0.0390625)).show()"
   ]
  },
  {
   "cell_type": "code",
   "execution_count": 17,
   "metadata": {},
   "outputs": [],
   "source": [
    "use std::f32::consts::PI;\n",
    "\n",
    "pub type Polar = (f32, f32);\n",
    "\n",
    "pub fn to_polar(c: Coord) -> Polar {\n",
    "    let (x, y) = c;\n",
    "    (dist_o(c), y.atan2(x))\n",
    "}\n",
    "\n",
    "pub fn from_polar(polar: Polar) -> Coord {\n",
    "    let (p, theta) = polar;\n",
    "    (p * theta.cos(), p * theta.sin())\n",
    "}\n",
    "\n",
    "pub fn compose<A, B, C, F, G>(f: F, g: G) -> impl Fn(A) -> C\n",
    "where\n",
    "    F: Fn(B) -> C,\n",
    "    G: Fn(A) -> B,\n",
    "{\n",
    "    move |x| f(g(x))\n",
    "}\n",
    "\n",
    "pub fn polar_checker(n: i32) -> impl Region {\n",
    "    let sc = move |polar: Polar| -> Polar {\n",
    "        let (p, theta) = polar;\n",
    "        (p, theta * (n as f32 / PI))\n",
    "    };\n",
    "    compose(checker(), compose(sc, to_polar))\n",
    "}"
   ]
  },
  {
   "cell_type": "code",
   "execution_count": 20,
   "metadata": {
    "collapsed": false,
    "inputHidden": false,
    "jupyter": {
     "outputs_hidden": false
    },
    "outputHidden": false
   },
   "outputs": [
    {
     "data": {
      "image/png": "[encoded data removed]",
      "text/plain": [
       "()"
      ]
     },
     "execution_count": 20,
     "metadata": {},
     "output_type": "execute_result"
    }
   ],
   "source": [
    "render(polar_checker(10), 1024, 512, (5.0, 2.5), (0.009765625, 0.009765625)).show()"
   ]
  },
  {
   "cell_type": "code",
   "execution_count": null,
   "metadata": {
    "collapsed": false,
    "inputHidden": false,
    "jupyter": {
     "outputs_hidden": false
    },
    "outputHidden": false
   },
   "outputs": [],
   "source": []
  }
 ],
 "metadata": {
  "kernel_info": {
   "name": "rust"
  },
  "kernelspec": {
   "display_name": "Rust",
   "language": "rust",
   "name": "rust"
  },
  "language_info": {
   "codemirror_mode": "rust",
   "file_extension": ".rs",
   "mimetype": "text/rust",
   "name": "Rust",
   "pygment_lexer": "rust",
   "version": ""
  },
  "nteract": {
   "version": "0.12.3"
  }
 },
 "nbformat": 4,
 "nbformat_minor": 4
}
